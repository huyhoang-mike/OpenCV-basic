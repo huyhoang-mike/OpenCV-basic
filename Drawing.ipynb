{
 "cells": [
  {
   "cell_type": "code",
   "execution_count": null,
   "metadata": {},
   "outputs": [],
   "source": [
    "import os\n",
    "\n",
    "import cv2\n",
    "\n",
    "\n",
    "img = cv2.imread(os.path.join('.', 'whiteboard.png'))\n",
    "\n",
    "print(img.shape)\n",
    "\n",
    "# line\n",
    "cv2.line(img, (100, 150), (300, 450), (0, 255, 0), 3)\n",
    "\n",
    "# rectangle\n",
    "cv2.rectangle(img, (200, 350), (450, 600), (0, 0, 255), -1)\n",
    "\n",
    "# circle\n",
    "cv2.circle(img, (800, 200), 75, (255, 0, 0), 10)\n",
    "\n",
    "# text\n",
    "cv2.putText(img, 'Hey you!', (600, 450), cv2.FONT_HERSHEY_SIMPLEX, 2, (255, 255, 0), 10)\n",
    "\n",
    "cv2.imshow('img', img)\n",
    "cv2.waitKey(0)\n"
   ]
  }
 ],
 "metadata": {
  "language_info": {
   "name": "python"
  }
 },
 "nbformat": 4,
 "nbformat_minor": 2
}
