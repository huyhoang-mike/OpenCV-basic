{
 "cells": [
  {
   "cell_type": "code",
   "execution_count": null,
   "metadata": {},
   "outputs": [],
   "source": [
    "import os\n",
    "\n",
    "import cv2\n",
    "import numpy as np\n",
    "\n",
    "\n",
    "img = cv2.imread(os.path.join('.', 'basketball-player.jpg'))\n",
    "\n",
    "img_edge = cv2.Canny(img, 100, 200)\n",
    "\n",
    "img_edge_d = cv2.dilate(img_edge, np.ones((3, 3), dtype=np.int8))\n",
    "\n",
    "img_edge_e = cv2.erode(img_edge_d, np.ones((3, 3), dtype=np.int8))\n",
    "\n",
    "cv2.imshow('img', img)\n",
    "cv2.imshow('img_edge', img_edge)\n",
    "cv2.imshow('img_edge_d', img_edge_d)\n",
    "cv2.imshow('img_edge_e', img_edge_e)\n",
    "cv2.waitKey(0)"
   ]
  }
 ],
 "metadata": {
  "language_info": {
   "name": "python"
  }
 },
 "nbformat": 4,
 "nbformat_minor": 2
}
