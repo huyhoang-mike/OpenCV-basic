{
 "cells": [
  {
   "cell_type": "code",
   "execution_count": null,
   "metadata": {},
   "outputs": [],
   "source": [
    "import os\n",
    "\n",
    "import cv2\n",
    "\n",
    "\n",
    "img = cv2.imread(os.path.join('.', 'cow-salt-peper.png'))\n",
    "\n",
    "k_size = 7\n",
    "img_blur = cv2.blur(img, (k_size, k_size))\n",
    "img_gaussian_blur = cv2.GaussianBlur(img, (k_size, k_size), 5)\n",
    "img_median_blur = cv2.medianBlur(img, k_size)\n",
    "\n",
    "cv2.imshow('img', img)\n",
    "cv2.imshow('img_blur', img_blur)\n",
    "cv2.imshow('img_gaussian_blur', img_gaussian_blur)\n",
    "cv2.imshow('img_median_blur', img_median_blur)\n",
    "cv2.waitKey(0)"
   ]
  }
 ],
 "metadata": {
  "kernelspec": {
   "display_name": "Python 3",
   "language": "python",
   "name": "python3"
  },
  "language_info": {
   "codemirror_mode": {
    "name": "ipython",
    "version": 3
   },
   "file_extension": ".py",
   "mimetype": "text/x-python",
   "name": "python",
   "nbconvert_exporter": "python",
   "pygments_lexer": "ipython3",
   "version": "3.11.5"
  }
 },
 "nbformat": 4,
 "nbformat_minor": 2
}
